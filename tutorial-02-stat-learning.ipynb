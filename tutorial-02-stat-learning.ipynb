{
 "cells": [
  {
   "cell_type": "markdown",
   "id": "bfd7e878-6480-4e41-8d07-bdb5aac4f267",
   "metadata": {},
   "source": [
    "# A tutorial on statistical-learning for scientific data processing\n",
    "\n",
    "https://scikit-learn.org/stable/tutorial/statistical_inference/index.html"
   ]
  },
  {
   "cell_type": "code",
   "execution_count": 1,
   "id": "afbac113-d06c-46f7-9225-a4f9e692bd80",
   "metadata": {},
   "outputs": [
    {
     "data": {
      "text/plain": [
       "(150, 4)"
      ]
     },
     "execution_count": 1,
     "metadata": {},
     "output_type": "execute_result"
    }
   ],
   "source": [
    "from sklearn import datasets\n",
    "iris = datasets.load_iris()\n",
    "data = iris.data\n",
    "data.shape"
   ]
  },
  {
   "cell_type": "code",
   "execution_count": 2,
   "id": "150e45e8-d0e0-4e8e-8ff4-5f8ca951b953",
   "metadata": {},
   "outputs": [
    {
     "data": {
      "text/plain": [
       "(1797, 8, 8)"
      ]
     },
     "execution_count": 2,
     "metadata": {},
     "output_type": "execute_result"
    }
   ],
   "source": [
    "digits = datasets.load_digits()\n",
    "digits.images.shape"
   ]
  },
  {
   "cell_type": "code",
   "execution_count": 3,
   "id": "72809d6a-97ef-4790-9ebf-806f8a62bd65",
   "metadata": {},
   "outputs": [
    {
     "data": {
      "text/plain": [
       "<matplotlib.image.AxesImage at 0x7fca92cb3610>"
      ]
     },
     "execution_count": 3,
     "metadata": {},
     "output_type": "execute_result"
    },
    {
     "data": {
      "image/png": "[encoded data removed]",
      "text/plain": [
       "<Figure size 432x288 with 1 Axes>"
      ]
     },
     "metadata": {
      "needs_background": "light"
     },
     "output_type": "display_data"
    }
   ],
   "source": [
    "import matplotlib.pyplot as plt\n",
    "plt.imshow(digits.images[-1],\n",
    "          cmap=plt.cm.gray_r)"
   ]
  },
  {
   "cell_type": "code",
   "execution_count": 4,
   "id": "9c45d705-64ae-42c3-84c4-6bb0fdc28df9",
   "metadata": {},
   "outputs": [],
   "source": [
    "data = digits.images.reshape(\n",
    "    (digits.images.shape[0], -1)\n",
    ")"
   ]
  },
  {
   "cell_type": "code",
   "execution_count": 5,
   "id": "af795b33-ab80-4177-9f03-b7fbfc663090",
   "metadata": {},
   "outputs": [
    {
     "data": {
      "text/plain": [
       "array([0, 1, 2])"
      ]
     },
     "execution_count": 5,
     "metadata": {},
     "output_type": "execute_result"
    }
   ],
   "source": [
    "import numpy as np\n",
    "from sklearn import datasets\n",
    "iris_X, iris_y = datasets.load_iris(return_X_y=True)\n",
    "np.unique(iris_y)"
   ]
  },
  {
   "cell_type": "code",
   "execution_count": 6,
   "id": "ccae96a2-2e4a-4dab-bcde-fca0603ea6e3",
   "metadata": {},
   "outputs": [],
   "source": [
    "np.random.seed(0)\n"
   ]
  },
  {
   "cell_type": "code",
   "execution_count": 7,
   "id": "7eefdc65-35c4-4424-9320-b1ad014f5a4d",
   "metadata": {},
   "outputs": [],
   "source": [
    "indices = np.random.permutation(len(iris_X))"
   ]
  },
  {
   "cell_type": "code",
   "execution_count": 8,
   "id": "438afe08-0bbb-4547-b41e-a2c97b3e5d05",
   "metadata": {},
   "outputs": [],
   "source": [
    "iris_X_train = iris_X[indices[:-10]]"
   ]
  },
  {
   "cell_type": "code",
   "execution_count": 9,
   "id": "8ce92713-5a76-4ef4-b58a-66dc2e402617",
   "metadata": {},
   "outputs": [],
   "source": [
    "iris_y_train = iris_y[indices[:-10]]"
   ]
  },
  {
   "cell_type": "code",
   "execution_count": 10,
   "id": "5aa3ee9b-0df8-4995-a48f-262f134b7473",
   "metadata": {},
   "outputs": [],
   "source": [
    "iris_X_test = iris_X[indices[-10:]]"
   ]
  },
  {
   "cell_type": "code",
   "execution_count": 11,
   "id": "3b56433b-4528-444f-af3d-a1af87af5ca1",
   "metadata": {},
   "outputs": [],
   "source": [
    "iris_y_test = iris_y[indices[-10:]]"
   ]
  },
  {
   "cell_type": "code",
   "execution_count": 12,
   "id": "b7243ed6-61c5-414e-9af0-7bfa0f91ce19",
   "metadata": {},
   "outputs": [],
   "source": [
    "from sklearn.neighbors import KNeighborsClassifier"
   ]
  },
  {
   "cell_type": "code",
   "execution_count": 13,
   "id": "d59ffa57-76d3-46db-b4b6-bcc0ea382bee",
   "metadata": {},
   "outputs": [],
   "source": [
    "knn = KNeighborsClassifier()"
   ]
  },
  {
   "cell_type": "code",
   "execution_count": 14,
   "id": "7086bdca-bbbf-4703-bd0f-a45cc43022f6",
   "metadata": {},
   "outputs": [
    {
     "data": {
      "text/plain": [
       "KNeighborsClassifier()"
      ]
     },
     "execution_count": 14,
     "metadata": {},
     "output_type": "execute_result"
    }
   ],
   "source": [
    "knn.fit(iris_X_train, iris_y_train)"
   ]
  },
  {
   "cell_type": "code",
   "execution_count": 15,
   "id": "4282eb0c-8341-4dd9-bd0d-1a40de592a0d",
   "metadata": {},
   "outputs": [
    {
     "data": {
      "text/plain": [
       "array([1, 2, 1, 0, 0, 0, 2, 1, 2, 0])"
      ]
     },
     "execution_count": 15,
     "metadata": {},
     "output_type": "execute_result"
    }
   ],
   "source": [
    "knn.predict(iris_X_test)"
   ]
  },
  {
   "cell_type": "code",
   "execution_count": 16,
   "id": "05d2234c-39a3-4d1a-8cf0-3a2bc6e28b3c",
   "metadata": {},
   "outputs": [
    {
     "data": {
      "text/plain": [
       "array([1, 1, 1, 0, 0, 0, 2, 1, 2, 0])"
      ]
     },
     "execution_count": 16,
     "metadata": {},
     "output_type": "execute_result"
    }
   ],
   "source": [
    "iris_y_test"
   ]
  },
  {
   "cell_type": "code",
   "execution_count": 19,
   "id": "322ae9e6-5bd8-4d8e-9773-2ea19cce1a92",
   "metadata": {},
   "outputs": [],
   "source": [
    "diabetes_X, diabetes_y = datasets.load_diabetes(return_X_y=True)\n",
    "diabetes_X_train = diabetes_X[:-20]\n",
    "diabetes_X_test  = diabetes_X[-20:]\n",
    "diabetes_y_train = diabetes_y[:-20]\n",
    "diabetes_y_test  = diabetes_y[-20:]"
   ]
  },
  {
   "cell_type": "code",
   "execution_count": 20,
   "id": "8e25d780-1f12-409f-ba1c-bdd27dcfc811",
   "metadata": {},
   "outputs": [
    {
     "data": {
      "text/plain": [
       "LinearRegression()"
      ]
     },
     "execution_count": 20,
     "metadata": {},
     "output_type": "execute_result"
    }
   ],
   "source": [
    "from sklearn import linear_model\n",
    "regr = linear_model.LinearRegression()\n",
    "regr.fit(diabetes_X_train, diabetes_y_train)"
   ]
  },
  {
   "cell_type": "code",
   "execution_count": 21,
   "id": "989d4bf5-bea4-419b-aad8-9f816f56013a",
   "metadata": {},
   "outputs": [
    {
     "name": "stdout",
     "output_type": "stream",
     "text": [
      "[ 3.03499549e-01 -2.37639315e+02  5.10530605e+02  3.27736980e+02\n",
      " -8.14131709e+02  4.92814588e+02  1.02848452e+02  1.84606489e+02\n",
      "  7.43519617e+02  7.60951722e+01]\n"
     ]
    }
   ],
   "source": [
    "print(regr.coef_)"
   ]
  },
  {
   "cell_type": "code",
   "execution_count": 22,
   "id": "6c8fc3ff-99b5-4148-a2f1-84591ecd45dd",
   "metadata": {},
   "outputs": [
    {
     "data": {
      "text/plain": [
       "2004.5676026898207"
      ]
     },
     "execution_count": 22,
     "metadata": {},
     "output_type": "execute_result"
    }
   ],
   "source": [
    "np.mean((regr.predict(diabetes_X_test) - diabetes_y_test)**2)"
   ]
  },
  {
   "cell_type": "code",
   "execution_count": 23,
   "id": "51527138-c898-464e-bd08-9d51a06b1cf9",
   "metadata": {},
   "outputs": [
    {
     "data": {
      "text/plain": [
       "0.5850753022690575"
      ]
     },
     "execution_count": 23,
     "metadata": {},
     "output_type": "execute_result"
    }
   ],
   "source": [
    "regr.score(diabetes_X_test, diabetes_y_test)"
   ]
  },
  {
   "cell_type": "code",
   "execution_count": 24,
   "id": "5e3d9a68-a89b-4b3a-a2c8-c0eab3fc5261",
   "metadata": {},
   "outputs": [],
   "source": [
    "X = np.c_[.5,1].T"
   ]
  },
  {
   "cell_type": "code",
   "execution_count": 25,
   "id": "143d3969-2a1d-4731-b6a5-12ab667ae86d",
   "metadata": {},
   "outputs": [],
   "source": [
    "y = [.5,1]"
   ]
  },
  {
   "cell_type": "code",
   "execution_count": 26,
   "id": "b91fffff-bef9-42a5-95fa-23ec062e3da7",
   "metadata": {},
   "outputs": [],
   "source": [
    "test = np.c_[0, 1].T"
   ]
  },
  {
   "cell_type": "code",
   "execution_count": 27,
   "id": "8aded6e9-6be9-4dcb-9ab0-10c1f1e2f979",
   "metadata": {},
   "outputs": [],
   "source": [
    "regr = linear_model.LinearRegression()"
   ]
  },
  {
   "cell_type": "code",
   "execution_count": 28,
   "id": "36412d30-693b-441d-96ad-46ff18456819",
   "metadata": {},
   "outputs": [
    {
     "data": {
      "text/plain": [
       "<Figure size 432x288 with 0 Axes>"
      ]
     },
     "execution_count": 28,
     "metadata": {},
     "output_type": "execute_result"
    },
    {
     "data": {
      "text/plain": [
       "<Figure size 432x288 with 0 Axes>"
      ]
     },
     "metadata": {},
     "output_type": "display_data"
    }
   ],
   "source": [
    "import matplotlib.pyplot as plt\n",
    "plt.figure()"
   ]
  },
  {
   "cell_type": "code",
   "execution_count": 30,
   "id": "05b44f03-6e54-4614-80ed-c811d489b731",
   "metadata": {},
   "outputs": [
    {
     "data": {
      "image/png": "[encoded data removed]",
      "text/plain": [
       "<Figure size 432x288 with 1 Axes>"
      ]
     },
     "metadata": {
      "needs_background": "light"
     },
     "output_type": "display_data"
    }
   ],
   "source": [
    "X = np.c_[ .5, 1].T\n",
    "y = [.5, 1]\n",
    "test = np.c_[ 0, 2].T\n",
    "regr = linear_model.LinearRegression()\n",
    "\n",
    "import matplotlib.pyplot as plt \n",
    "plt.figure() \n",
    "\n",
    "np.random.seed(0)\n",
    "for _ in range(6): \n",
    "    this_X = .1 * np.random.normal(size=(2, 1)) + X\n",
    "    regr.fit(this_X, y)\n",
    "    plt.plot(test, regr.predict(test)) \n",
    "    plt.scatter(this_X, y, s=3)  "
   ]
  },
  {
   "cell_type": "code",
   "execution_count": 31,
   "id": "195232ce-bb79-4073-afbb-f328aef24a9f",
   "metadata": {},
   "outputs": [
    {
     "data": {
      "image/png": "[encoded data removed]",
      "text/plain": [
       "<Figure size 432x288 with 1 Axes>"
      ]
     },
     "metadata": {
      "needs_background": "light"
     },
     "output_type": "display_data"
    }
   ],
   "source": [
    "regr = linear_model.Ridge(alpha=.1)\n",
    "\n",
    "plt.figure() \n",
    "\n",
    "np.random.seed(0)\n",
    "for _ in range(6): \n",
    "    this_X = .1 * np.random.normal(size=(2, 1)) + X\n",
    "    regr.fit(this_X, y)\n",
    "    plt.plot(test, regr.predict(test)) \n",
    "    plt.scatter(this_X, y, s=3) "
   ]
  },
  {
   "cell_type": "code",
   "execution_count": 32,
   "id": "e6b81007-5981-4d3e-9ca6-c0471f097055",
   "metadata": {},
   "outputs": [
    {
     "name": "stdout",
     "output_type": "stream",
     "text": [
      "[0.5851110683883531, 0.5852073015444674, 0.585467754069849, 0.5855512036503915, 0.5830717085554161, 0.570589994372801]\n"
     ]
    }
   ],
   "source": [
    "alphas = np.logspace(-4, -1, 6)\n",
    "print([regr.set_params(alpha=alpha)\n",
    "           .fit(diabetes_X_train, diabetes_y_train)\n",
    "           .score(diabetes_X_test, diabetes_y_test)\n",
    "       for alpha in alphas])"
   ]
  },
  {
   "cell_type": "code",
   "execution_count": null,
   "id": "f1a60dc9-16cd-43b9-b052-3f5540dd4ee7",
   "metadata": {},
   "outputs": [],
   "source": []
  }
 ],
 "metadata": {
  "kernelspec": {
   "display_name": "Python 3",
   "language": "python",
   "name": "python3"
  },
  "language_info": {
   "codemirror_mode": {
    "name": "ipython",
    "version": 3
   },
   "file_extension": ".py",
   "mimetype": "text/x-python",
   "name": "python",
   "nbconvert_exporter": "python",
   "pygments_lexer": "ipython3",
   "version": "3.8.6"
  }
 },
 "nbformat": 4,
 "nbformat_minor": 5
}
