{
 "cells": [
  {
   "cell_type": "markdown",
   "id": "bfd7e878-6480-4e41-8d07-bdb5aac4f267",
   "metadata": {},
   "source": [
    "# A tutorial on statistical-learning for scientific data processing\n",
    "\n",
    "https://scikit-learn.org/stable/tutorial/statistical_inference/index.html"
   ]
  },
  {
   "cell_type": "code",
   "execution_count": 1,
   "id": "afbac113-d06c-46f7-9225-a4f9e692bd80",
   "metadata": {},
   "outputs": [
    {
     "data": {
      "text/plain": [
       "(150, 4)"
      ]
     },
     "execution_count": 1,
     "metadata": {},
     "output_type": "execute_result"
    }
   ],
   "source": [
    "from sklearn import datasets\n",
    "iris = datasets.load_iris()\n",
    "data = iris.data\n",
    "data.shape"
   ]
  },
  {
   "cell_type": "code",
   "execution_count": 2,
   "id": "150e45e8-d0e0-4e8e-8ff4-5f8ca951b953",
   "metadata": {},
   "outputs": [
    {
     "data": {
      "text/plain": [
       "(1797, 8, 8)"
      ]
     },
     "execution_count": 2,
     "metadata": {},
     "output_type": "execute_result"
    }
   ],
   "source": [
    "digits = datasets.load_digits()\n",
    "digits.images.shape"
   ]
  },
  {
   "cell_type": "code",
   "execution_count": 3,
   "id": "72809d6a-97ef-4790-9ebf-806f8a62bd65",
   "metadata": {},
   "outputs": [
    {
     "data": {
      "text/plain": [
       "<matplotlib.image.AxesImage at 0x12bb00d60>"
      ]
     },
     "execution_count": 3,
     "metadata": {},
     "output_type": "execute_result"
    },
    {
     "data": {
      "image/png": "[encoded data removed]",
      "text/plain": [
       "<Figure size 432x288 with 1 Axes>"
      ]
     },
     "metadata": {
      "needs_background": "light"
     },
     "output_type": "display_data"
    }
   ],
   "source": [
    "import matplotlib.pyplot as plt\n",
    "plt.imshow(digits.images[-1],\n",
    "          cmap=plt.cm.gray_r)"
   ]
  },
  {
   "cell_type": "code",
   "execution_count": 4,
   "id": "9c45d705-64ae-42c3-84c4-6bb0fdc28df9",
   "metadata": {},
   "outputs": [],
   "source": [
    "data = digits.images.reshape(\n",
    "    (digits.images.shape[0], -1)\n",
    ")"
   ]
  },
  {
   "cell_type": "code",
   "execution_count": 5,
   "id": "af795b33-ab80-4177-9f03-b7fbfc663090",
   "metadata": {},
   "outputs": [
    {
     "data": {
      "text/plain": [
       "array([0, 1, 2])"
      ]
     },
     "execution_count": 5,
     "metadata": {},
     "output_type": "execute_result"
    }
   ],
   "source": [
    "import numpy as np\n",
    "from sklearn import datasets\n",
    "iris_X, iris_y = datasets.load_iris(return_X_y=True)\n",
    "np.unique(iris_y)"
   ]
  },
  {
   "cell_type": "code",
   "execution_count": 6,
   "id": "ccae96a2-2e4a-4dab-bcde-fca0603ea6e3",
   "metadata": {},
   "outputs": [],
   "source": [
    "np.random.seed(0)\n"
   ]
  },
  {
   "cell_type": "code",
   "execution_count": 7,
   "id": "7eefdc65-35c4-4424-9320-b1ad014f5a4d",
   "metadata": {},
   "outputs": [],
   "source": [
    "indices = np.random.permutation(len(iris_X))"
   ]
  },
  {
   "cell_type": "code",
   "execution_count": 8,
   "id": "438afe08-0bbb-4547-b41e-a2c97b3e5d05",
   "metadata": {},
   "outputs": [],
   "source": [
    "iris_X_train = iris_X[indices[:-10]]"
   ]
  },
  {
   "cell_type": "code",
   "execution_count": 9,
   "id": "8ce92713-5a76-4ef4-b58a-66dc2e402617",
   "metadata": {},
   "outputs": [],
   "source": [
    "iris_y_train = iris_y[indices[:-10]]"
   ]
  },
  {
   "cell_type": "code",
   "execution_count": 10,
   "id": "5aa3ee9b-0df8-4995-a48f-262f134b7473",
   "metadata": {},
   "outputs": [],
   "source": [
    "iris_X_test = iris_X[indices[-10:]]"
   ]
  },
  {
   "cell_type": "code",
   "execution_count": 11,
   "id": "3b56433b-4528-444f-af3d-a1af87af5ca1",
   "metadata": {},
   "outputs": [],
   "source": [
    "iris_y_test = iris_y[indices[-10:]]"
   ]
  },
  {
   "cell_type": "code",
   "execution_count": 12,
   "id": "b7243ed6-61c5-414e-9af0-7bfa0f91ce19",
   "metadata": {},
   "outputs": [],
   "source": [
    "from sklearn.neighbors import KNeighborsClassifier"
   ]
  },
  {
   "cell_type": "code",
   "execution_count": 13,
   "id": "d59ffa57-76d3-46db-b4b6-bcc0ea382bee",
   "metadata": {},
   "outputs": [],
   "source": [
    "knn = KNeighborsClassifier()"
   ]
  },
  {
   "cell_type": "code",
   "execution_count": 14,
   "id": "7086bdca-bbbf-4703-bd0f-a45cc43022f6",
   "metadata": {},
   "outputs": [
    {
     "data": {
      "text/plain": [
       "KNeighborsClassifier()"
      ]
     },
     "execution_count": 14,
     "metadata": {},
     "output_type": "execute_result"
    }
   ],
   "source": [
    "knn.fit(iris_X_train, iris_y_train)"
   ]
  },
  {
   "cell_type": "code",
   "execution_count": 15,
   "id": "4282eb0c-8341-4dd9-bd0d-1a40de592a0d",
   "metadata": {},
   "outputs": [
    {
     "data": {
      "text/plain": [
       "array([1, 2, 1, 0, 0, 0, 2, 1, 2, 0])"
      ]
     },
     "execution_count": 15,
     "metadata": {},
     "output_type": "execute_result"
    }
   ],
   "source": [
    "knn.predict(iris_X_test)"
   ]
  },
  {
   "cell_type": "code",
   "execution_count": 16,
   "id": "05d2234c-39a3-4d1a-8cf0-3a2bc6e28b3c",
   "metadata": {},
   "outputs": [
    {
     "data": {
      "text/plain": [
       "array([1, 1, 1, 0, 0, 0, 2, 1, 2, 0])"
      ]
     },
     "execution_count": 16,
     "metadata": {},
     "output_type": "execute_result"
    }
   ],
   "source": [
    "iris_y_test"
   ]
  },
  {
   "cell_type": "code",
   "execution_count": 17,
   "id": "322ae9e6-5bd8-4d8e-9773-2ea19cce1a92",
   "metadata": {},
   "outputs": [],
   "source": [
    "diabetes_X, diabetes_y = datasets.load_diabetes(return_X_y=True)\n",
    "diabetes_X_train = diabetes_X[:-20]\n",
    "diabetes_X_test  = diabetes_X[-20:]\n",
    "diabetes_y_train = diabetes_y[:-20]\n",
    "diabetes_y_test  = diabetes_y[-20:]"
   ]
  },
  {
   "cell_type": "code",
   "execution_count": 18,
   "id": "8e25d780-1f12-409f-ba1c-bdd27dcfc811",
   "metadata": {},
   "outputs": [
    {
     "data": {
      "text/plain": [
       "LinearRegression()"
      ]
     },
     "execution_count": 18,
     "metadata": {},
     "output_type": "execute_result"
    }
   ],
   "source": [
    "from sklearn import linear_model\n",
    "regr = linear_model.LinearRegression()\n",
    "regr.fit(diabetes_X_train, diabetes_y_train)"
   ]
  },
  {
   "cell_type": "code",
   "execution_count": 19,
   "id": "989d4bf5-bea4-419b-aad8-9f816f56013a",
   "metadata": {},
   "outputs": [
    {
     "name": "stdout",
     "output_type": "stream",
     "text": [
      "[ 3.03499549e-01 -2.37639315e+02  5.10530605e+02  3.27736980e+02\n",
      " -8.14131709e+02  4.92814588e+02  1.02848452e+02  1.84606489e+02\n",
      "  7.43519617e+02  7.60951722e+01]\n"
     ]
    }
   ],
   "source": [
    "print(regr.coef_)"
   ]
  },
  {
   "cell_type": "code",
   "execution_count": 20,
   "id": "6c8fc3ff-99b5-4148-a2f1-84591ecd45dd",
   "metadata": {},
   "outputs": [
    {
     "data": {
      "text/plain": [
       "2004.5676026898207"
      ]
     },
     "execution_count": 20,
     "metadata": {},
     "output_type": "execute_result"
    }
   ],
   "source": [
    "np.mean((regr.predict(diabetes_X_test) - diabetes_y_test)**2)"
   ]
  },
  {
   "cell_type": "code",
   "execution_count": 21,
   "id": "51527138-c898-464e-bd08-9d51a06b1cf9",
   "metadata": {},
   "outputs": [
    {
     "data": {
      "text/plain": [
       "0.5850753022690575"
      ]
     },
     "execution_count": 21,
     "metadata": {},
     "output_type": "execute_result"
    }
   ],
   "source": [
    "regr.score(diabetes_X_test, diabetes_y_test)"
   ]
  },
  {
   "cell_type": "code",
   "execution_count": 22,
   "id": "5e3d9a68-a89b-4b3a-a2c8-c0eab3fc5261",
   "metadata": {},
   "outputs": [],
   "source": [
    "X = np.c_[.5,1].T"
   ]
  },
  {
   "cell_type": "code",
   "execution_count": 23,
   "id": "143d3969-2a1d-4731-b6a5-12ab667ae86d",
   "metadata": {},
   "outputs": [],
   "source": [
    "y = [.5,1]"
   ]
  },
  {
   "cell_type": "code",
   "execution_count": 24,
   "id": "b91fffff-bef9-42a5-95fa-23ec062e3da7",
   "metadata": {},
   "outputs": [],
   "source": [
    "test = np.c_[0, 1].T"
   ]
  },
  {
   "cell_type": "code",
   "execution_count": 25,
   "id": "8aded6e9-6be9-4dcb-9ab0-10c1f1e2f979",
   "metadata": {},
   "outputs": [],
   "source": [
    "regr = linear_model.LinearRegression()"
   ]
  },
  {
   "cell_type": "code",
   "execution_count": 26,
   "id": "36412d30-693b-441d-96ad-46ff18456819",
   "metadata": {},
   "outputs": [
    {
     "data": {
      "text/plain": [
       "<Figure size 432x288 with 0 Axes>"
      ]
     },
     "execution_count": 26,
     "metadata": {},
     "output_type": "execute_result"
    },
    {
     "data": {
      "text/plain": [
       "<Figure size 432x288 with 0 Axes>"
      ]
     },
     "metadata": {},
     "output_type": "display_data"
    }
   ],
   "source": [
    "import matplotlib.pyplot as plt\n",
    "plt.figure()"
   ]
  },
  {
   "cell_type": "code",
   "execution_count": 27,
   "id": "05b44f03-6e54-4614-80ed-c811d489b731",
   "metadata": {},
   "outputs": [
    {
     "data": {
      "image/png": "[encoded data removed]",
      "text/plain": [
       "<Figure size 432x288 with 1 Axes>"
      ]
     },
     "metadata": {
      "needs_background": "light"
     },
     "output_type": "display_data"
    }
   ],
   "source": [
    "X = np.c_[ .5, 1].T\n",
    "y = [.5, 1]\n",
    "test = np.c_[ 0, 2].T\n",
    "regr = linear_model.LinearRegression()\n",
    "\n",
    "import matplotlib.pyplot as plt \n",
    "plt.figure() \n",
    "\n",
    "np.random.seed(0)\n",
    "for _ in range(6): \n",
    "    this_X = .1 * np.random.normal(size=(2, 1)) + X\n",
    "    regr.fit(this_X, y)\n",
    "    plt.plot(test, regr.predict(test)) \n",
    "    plt.scatter(this_X, y, s=3)  "
   ]
  },
  {
   "cell_type": "code",
   "execution_count": 28,
   "id": "195232ce-bb79-4073-afbb-f328aef24a9f",
   "metadata": {},
   "outputs": [
    {
     "data": {
      "image/png": "[encoded data removed]",
      "text/plain": [
       "<Figure size 432x288 with 1 Axes>"
      ]
     },
     "metadata": {
      "needs_background": "light"
     },
     "output_type": "display_data"
    }
   ],
   "source": [
    "regr = linear_model.Ridge(alpha=.1)\n",
    "\n",
    "plt.figure() \n",
    "\n",
    "np.random.seed(0)\n",
    "for _ in range(6): \n",
    "    this_X = .1 * np.random.normal(size=(2, 1)) + X\n",
    "    regr.fit(this_X, y)\n",
    "    plt.plot(test, regr.predict(test)) \n",
    "    plt.scatter(this_X, y, s=3) "
   ]
  },
  {
   "cell_type": "code",
   "execution_count": 29,
   "id": "e6b81007-5981-4d3e-9ca6-c0471f097055",
   "metadata": {},
   "outputs": [
    {
     "name": "stdout",
     "output_type": "stream",
     "text": [
      "[0.5851110683883531, 0.5852073015444674, 0.585467754069849, 0.5855512036503915, 0.5830717085554161, 0.570589994372801]\n"
     ]
    }
   ],
   "source": [
    "alphas = np.logspace(-4, -1, 6)\n",
    "print([regr.set_params(alpha=alpha)\n",
    "           .fit(diabetes_X_train, diabetes_y_train)\n",
    "           .score(diabetes_X_test, diabetes_y_test)\n",
    "       for alpha in alphas])"
   ]
  },
  {
   "cell_type": "code",
   "execution_count": 30,
   "id": "f1a60dc9-16cd-43b9-b052-3f5540dd4ee7",
   "metadata": {},
   "outputs": [],
   "source": [
    "regr = linear_model.Lasso()"
   ]
  },
  {
   "cell_type": "code",
   "execution_count": 31,
   "id": "6628cdeb-7426-47fc-95c2-2ae83a25463f",
   "metadata": {},
   "outputs": [],
   "source": [
    "scores = [regr.set_params(alpha=alpha)\n",
    "         .fit(diabetes_X_train, diabetes_y_train)\n",
    "          .score(diabetes_X_test, diabetes_y_test)\n",
    "          for alpha in alphas\n",
    "         ]\n"
   ]
  },
  {
   "cell_type": "code",
   "execution_count": 32,
   "id": "82df553e-9414-4d4e-97c8-97d95ea2a152",
   "metadata": {},
   "outputs": [],
   "source": [
    "best_alpha = alphas[scores.index(max(scores))]"
   ]
  },
  {
   "cell_type": "code",
   "execution_count": 33,
   "id": "22f06d87-28d0-4662-bf60-1ed82eeddd45",
   "metadata": {},
   "outputs": [],
   "source": [
    "regr.alpha = best_alpha"
   ]
  },
  {
   "cell_type": "code",
   "execution_count": 34,
   "id": "7ef8ec7b-4404-4fcb-904c-763595907845",
   "metadata": {},
   "outputs": [
    {
     "data": {
      "text/plain": [
       "Lasso(alpha=0.025118864315095794)"
      ]
     },
     "execution_count": 34,
     "metadata": {},
     "output_type": "execute_result"
    }
   ],
   "source": [
    "regr.fit(diabetes_X_train, diabetes_y_train)"
   ]
  },
  {
   "cell_type": "code",
   "execution_count": 35,
   "id": "f4424831-9af5-4b26-a3d8-208959d4a8df",
   "metadata": {},
   "outputs": [
    {
     "name": "stdout",
     "output_type": "stream",
     "text": [
      "[   0.         -212.43764548  517.19478111  313.77959962 -160.8303982\n",
      "   -0.         -187.19554705   69.38229038  508.66011217   71.84239008]\n"
     ]
    }
   ],
   "source": [
    "print(regr.coef_)"
   ]
  },
  {
   "cell_type": "code",
   "execution_count": 36,
   "id": "74e3b860-5d00-4862-a692-942dce94b283",
   "metadata": {},
   "outputs": [
    {
     "data": {
      "text/plain": [
       "LogisticRegression(C=100000.0)"
      ]
     },
     "execution_count": 36,
     "metadata": {},
     "output_type": "execute_result"
    }
   ],
   "source": [
    "log = linear_model.LogisticRegression(C=1e5)\n",
    "log.fit(iris_X_train, iris_y_train)\n"
   ]
  },
  {
   "cell_type": "markdown",
   "id": "cc8a909b-543b-4e89-881e-a32d5cda7333",
   "metadata": {},
   "source": [
    "Try classifying the digits dataset with nearest neighbors and a linear model. Leave out the last 10% and test prediction performance on these observations."
   ]
  },
  {
   "cell_type": "code",
   "execution_count": 37,
   "id": "2dcc6707-6a24-496f-a64e-ceb3168be8ca",
   "metadata": {},
   "outputs": [],
   "source": [
    "from sklearn import datasets, neighbors, linear_model\n",
    "\n",
    "X_digits, y_digits = datasets.load_digits(return_X_y=True)\n",
    "X_digits = X_digits / X_digits.max()"
   ]
  },
  {
   "cell_type": "code",
   "execution_count": 38,
   "id": "889672cd-3135-4f2c-95dc-82ae1cb0d77e",
   "metadata": {},
   "outputs": [
    {
     "data": {
      "text/plain": [
       "array([[0.    , 0.    , 0.3125, ..., 0.    , 0.    , 0.    ],\n",
       "       [0.    , 0.    , 0.    , ..., 0.625 , 0.    , 0.    ],\n",
       "       [0.    , 0.    , 0.    , ..., 1.    , 0.5625, 0.    ],\n",
       "       ...,\n",
       "       [0.    , 0.    , 0.0625, ..., 0.375 , 0.    , 0.    ],\n",
       "       [0.    , 0.    , 0.125 , ..., 0.75  , 0.    , 0.    ],\n",
       "       [0.    , 0.    , 0.625 , ..., 0.75  , 0.0625, 0.    ]])"
      ]
     },
     "execution_count": 38,
     "metadata": {},
     "output_type": "execute_result"
    }
   ],
   "source": [
    "X_digits"
   ]
  },
  {
   "cell_type": "code",
   "execution_count": 39,
   "id": "e00c137c-77be-4895-b3e1-5d0b0a4db5ba",
   "metadata": {},
   "outputs": [],
   "source": [
    "n_samples = len(X_digits)"
   ]
  },
  {
   "cell_type": "code",
   "execution_count": 40,
   "id": "d89c76f8-aa21-40bb-a12c-0ac465a8517b",
   "metadata": {},
   "outputs": [],
   "source": [
    "X_train, X_test = X_digits[:int(0.9*n_samples):], X_digits[int(0.9*n_samples):]\n",
    "y_train, y_test = y_digits[:int(0.9*n_samples):], y_digits[int(0.9*n_samples):]"
   ]
  },
  {
   "cell_type": "code",
   "execution_count": 41,
   "id": "03b142e6-027f-4444-a1ce-73589fbedb37",
   "metadata": {},
   "outputs": [
    {
     "data": {
      "text/plain": [
       "1617"
      ]
     },
     "execution_count": 41,
     "metadata": {},
     "output_type": "execute_result"
    }
   ],
   "source": [
    "len(X_train)"
   ]
  },
  {
   "cell_type": "code",
   "execution_count": 42,
   "id": "8c045fa7-5d56-491b-80ef-e75923a0a81b",
   "metadata": {},
   "outputs": [
    {
     "data": {
      "text/plain": [
       "180"
      ]
     },
     "execution_count": 42,
     "metadata": {},
     "output_type": "execute_result"
    }
   ],
   "source": [
    "len(X_test)"
   ]
  },
  {
   "cell_type": "code",
   "execution_count": 43,
   "id": "d7e09343-1013-475f-afac-ca320985f808",
   "metadata": {},
   "outputs": [
    {
     "data": {
      "text/plain": [
       "1617"
      ]
     },
     "execution_count": 43,
     "metadata": {},
     "output_type": "execute_result"
    }
   ],
   "source": [
    "len(y_train)"
   ]
  },
  {
   "cell_type": "code",
   "execution_count": 44,
   "id": "d6cd8e37-bf2b-4ca0-b2c7-2d207a63a335",
   "metadata": {},
   "outputs": [
    {
     "data": {
      "text/plain": [
       "180"
      ]
     },
     "execution_count": 44,
     "metadata": {},
     "output_type": "execute_result"
    }
   ],
   "source": [
    "len(y_test)"
   ]
  },
  {
   "cell_type": "code",
   "execution_count": 45,
   "id": "1721dca5-8aa2-4914-9fed-801690885f97",
   "metadata": {
    "tags": []
   },
   "outputs": [],
   "source": [
    "knn = neighbors.KNeighborsClassifier()"
   ]
  },
  {
   "cell_type": "code",
   "execution_count": 46,
   "id": "6e946681-3434-40cc-a5e3-201450cb8e03",
   "metadata": {},
   "outputs": [],
   "source": [
    "logistic = linear_model.LogisticRegression(max_iter=1000)"
   ]
  },
  {
   "cell_type": "code",
   "execution_count": 47,
   "id": "7856f027-279c-4868-a6a7-edcde2a95d5c",
   "metadata": {},
   "outputs": [
    {
     "name": "stdout",
     "output_type": "stream",
     "text": [
      "KNN Score: 0.9611111111111111\n"
     ]
    }
   ],
   "source": [
    "print(f\"KNN Score: {knn.fit(X_train, y_train).score(X_test, y_test)}\")"
   ]
  },
  {
   "cell_type": "code",
   "execution_count": 48,
   "id": "c1604061-b693-40d3-9994-f75ea411c336",
   "metadata": {},
   "outputs": [
    {
     "name": "stdout",
     "output_type": "stream",
     "text": [
      "LogisticRegression score: 0.9333333333333333\n"
     ]
    }
   ],
   "source": [
    "print(f\"LogisticRegression score: {logistic.fit(X_train, y_train).score(X_test, y_test)}\")"
   ]
  },
  {
   "cell_type": "code",
   "execution_count": 49,
   "id": "7031f8c7-cd4d-4b04-976a-af1f9e354b3d",
   "metadata": {},
   "outputs": [
    {
     "data": {
      "text/plain": [
       "SVC(kernel='linear')"
      ]
     },
     "execution_count": 49,
     "metadata": {},
     "output_type": "execute_result"
    }
   ],
   "source": [
    "from sklearn import svm\n",
    "svc = svm.SVC(kernel='linear')\n",
    "svc.fit(iris_X_train, iris_y_train)"
   ]
  },
  {
   "cell_type": "code",
   "execution_count": 50,
   "id": "e77df77b-b9d7-433b-aad6-a3fe62fb174c",
   "metadata": {},
   "outputs": [
    {
     "data": {
      "text/plain": [
       "SVC(kernel='linear')"
      ]
     },
     "execution_count": 50,
     "metadata": {},
     "output_type": "execute_result"
    }
   ],
   "source": [
    "svc = svm.SVC(kernel='linear')\n",
    "svc"
   ]
  },
  {
   "cell_type": "code",
   "execution_count": 51,
   "id": "7077df12-1a82-48ae-b04d-eb5a10b066d3",
   "metadata": {},
   "outputs": [
    {
     "data": {
      "text/plain": [
       "SVC(kernel='poly')"
      ]
     },
     "execution_count": 51,
     "metadata": {},
     "output_type": "execute_result"
    }
   ],
   "source": [
    "svc = svm.SVC(kernel='poly', degree=3)\n",
    "svc"
   ]
  },
  {
   "cell_type": "code",
   "execution_count": 52,
   "id": "820da13d-25a1-4e10-9302-de13b57555d1",
   "metadata": {},
   "outputs": [
    {
     "data": {
      "text/plain": [
       "SVC()"
      ]
     },
     "execution_count": 52,
     "metadata": {},
     "output_type": "execute_result"
    }
   ],
   "source": [
    "svc = svm.SVC(kernel='rbf')\n",
    "svc"
   ]
  },
  {
   "cell_type": "markdown",
   "id": "6fbe6aad-0b4f-4da4-a6a8-fbf7e43cbf20",
   "metadata": {},
   "source": [
    "Exercise\n",
    "\n",
    "Try classifying classes 1 and 2 from the iris dataset with SVMs, with the 2 first features. Leave out 10% of each class and test prediction performance on these observations.\n",
    "\n",
    "Warning: the classes are ordered, do not leave out the last 10%, you would be testing on only one class.\n",
    "\n",
    "Hint: You can use the decision_function method on a grid to get intuitions."
   ]
  },
  {
   "cell_type": "code",
   "execution_count": 53,
   "id": "c43b14f7-8079-4afd-82c4-5b1f22b550c9",
   "metadata": {},
   "outputs": [],
   "source": [
    "iris = datasets.load_iris()\n",
    "X = iris.data\n",
    "y = iris.target\n",
    "\n",
    "X = X[y != 0, :2]\n",
    "y = y[y != 0]"
   ]
  },
  {
   "cell_type": "code",
   "execution_count": 54,
   "id": "b45388d8-9ceb-4d91-b7aa-2cdb822ca000",
   "metadata": {},
   "outputs": [],
   "source": [
    "from sklearn import model_selection"
   ]
  },
  {
   "cell_type": "code",
   "execution_count": 55,
   "id": "24aebcfe-4ca5-4632-b5a7-117cc0d47c53",
   "metadata": {},
   "outputs": [],
   "source": [
    "X_train, X_test = model_selection.train_test_split(X, test_size=0.1)"
   ]
  },
  {
   "cell_type": "code",
   "execution_count": 56,
   "id": "9773bd8b-57cd-4f1c-83f5-ddf85868210e",
   "metadata": {},
   "outputs": [],
   "source": [
    "y_train, y_test = model_selection.train_test_split(y, test_size=0.1)"
   ]
  },
  {
   "cell_type": "code",
   "execution_count": 57,
   "id": "7713dfec-bfbf-4ed5-9e87-2274a5f10d6e",
   "metadata": {},
   "outputs": [
    {
     "data": {
      "text/plain": [
       "0.4"
      ]
     },
     "execution_count": 57,
     "metadata": {},
     "output_type": "execute_result"
    }
   ],
   "source": [
    "svc = svm.SVC(kernel='linear', gamma=10)\n",
    "svc.fit(X_train, y_train).score(X_test, y_test)"
   ]
  },
  {
   "cell_type": "code",
   "execution_count": 59,
   "id": "837e9164-07ff-4165-bc7d-49ae63000f07",
   "metadata": {},
   "outputs": [
    {
     "name": "stdout",
     "output_type": "stream",
     "text": [
      "\n",
      "================================\n",
      "SVM Exercise\n",
      "================================\n",
      "\n",
      "A tutorial exercise for using different SVM kernels.\n",
      "\n",
      "This exercise is used in the :ref:`using_kernels_tut` part of the\n",
      ":ref:`supervised_learning_tut` section of the :ref:`stat_learn_tut_index`.\n",
      "\n"
     ]
    },
    {
     "name": "stderr",
     "output_type": "stream",
     "text": [
      "<ipython-input-59-c765e84a0ffd>:53: MatplotlibDeprecationWarning: shading='flat' when X and Y have the same dimensions as C is deprecated since 3.3.  Either specify the corners of the quadrilaterals with X and Y, or pass shading='auto', 'nearest' or 'gouraud', or set rcParams['pcolor.shading'].  This will become an error two minor releases later.\n",
      "  plt.pcolormesh(XX, YY, Z > 0, cmap=plt.cm.Paired)\n",
      "<ipython-input-59-c765e84a0ffd>:53: MatplotlibDeprecationWarning: shading='flat' when X and Y have the same dimensions as C is deprecated since 3.3.  Either specify the corners of the quadrilaterals with X and Y, or pass shading='auto', 'nearest' or 'gouraud', or set rcParams['pcolor.shading'].  This will become an error two minor releases later.\n",
      "  plt.pcolormesh(XX, YY, Z > 0, cmap=plt.cm.Paired)\n",
      "<ipython-input-59-c765e84a0ffd>:53: MatplotlibDeprecationWarning: shading='flat' when X and Y have the same dimensions as C is deprecated since 3.3.  Either specify the corners of the quadrilaterals with X and Y, or pass shading='auto', 'nearest' or 'gouraud', or set rcParams['pcolor.shading'].  This will become an error two minor releases later.\n",
      "  plt.pcolormesh(XX, YY, Z > 0, cmap=plt.cm.Paired)\n"
     ]
    },
    {
     "data": {
      "image/png": "[encoded data removed]",
      "text/plain": [
       "<Figure size 432x288 with 1 Axes>"
      ]
     },
     "metadata": {
      "needs_background": "light"
     },
     "output_type": "display_data"
    },
    {
     "data": {
      "image/png": "[encoded data removed]",
      "text/plain": [
       "<Figure size 432x288 with 1 Axes>"
      ]
     },
     "metadata": {
      "needs_background": "light"
     },
     "output_type": "display_data"
    },
    {
     "data": {
      "image/png": "[encoded data removed]",
      "text/plain": [
       "<Figure size 432x288 with 1 Axes>"
      ]
     },
     "metadata": {
      "needs_background": "light"
     },
     "output_type": "display_data"
    }
   ],
   "source": [
    "\"\"\"\n",
    "================================\n",
    "SVM Exercise\n",
    "================================\n",
    "\n",
    "A tutorial exercise for using different SVM kernels.\n",
    "\n",
    "This exercise is used in the :ref:`using_kernels_tut` part of the\n",
    ":ref:`supervised_learning_tut` section of the :ref:`stat_learn_tut_index`.\n",
    "\"\"\"\n",
    "print(__doc__)\n",
    "\n",
    "\n",
    "import numpy as np\n",
    "import matplotlib.pyplot as plt\n",
    "from sklearn import datasets, svm\n",
    "\n",
    "iris = datasets.load_iris()\n",
    "X = iris.data\n",
    "y = iris.target\n",
    "\n",
    "X = X[y != 0, :2]\n",
    "y = y[y != 0]\n",
    "\n",
    "X_train, X_test = model_selection.train_test_split(X, test_size=0.1)\n",
    "y_train, y_test = model_selection.train_test_split(y, test_size=0.1)\n",
    "\n",
    "# fit the model\n",
    "for kernel in ('linear', 'rbf', 'poly'):\n",
    "    clf = svm.SVC(kernel=kernel, gamma=10)\n",
    "    clf.fit(X_train, y_train)\n",
    "\n",
    "    plt.figure()\n",
    "    plt.clf()\n",
    "    plt.scatter(X[:, 0], X[:, 1], c=y, zorder=10, cmap=plt.cm.Paired,\n",
    "                edgecolor='k', s=20)\n",
    "\n",
    "    # Circle out the test data\n",
    "    plt.scatter(X_test[:, 0], X_test[:, 1], s=80, facecolors='none',\n",
    "                zorder=10, edgecolor='k')\n",
    "\n",
    "    plt.axis('tight')\n",
    "    x_min = X[:, 0].min()\n",
    "    x_max = X[:, 0].max()\n",
    "    y_min = X[:, 1].min()\n",
    "    y_max = X[:, 1].max()\n",
    "\n",
    "    XX, YY = np.mgrid[x_min:x_max:200j, y_min:y_max:200j]\n",
    "    Z = clf.decision_function(np.c_[XX.ravel(), YY.ravel()])\n",
    "\n",
    "    # Put the result into a color plot\n",
    "    Z = Z.reshape(XX.shape)\n",
    "    plt.pcolormesh(XX, YY, Z > 0, cmap=plt.cm.Paired)\n",
    "    plt.contour(XX, YY, Z, colors=['k', 'k', 'k'],\n",
    "                linestyles=['--', '-', '--'], levels=[-.5, 0, .5])\n",
    "\n",
    "    plt.title(kernel)\n",
    "plt.show()\n"
   ]
  },
  {
   "cell_type": "code",
   "execution_count": 68,
   "id": "0dc757da-78fa-4ce4-ac5b-57571a1d7418",
   "metadata": {},
   "outputs": [
    {
     "data": {
      "text/plain": [
       "{'linear': [0.2, 0.4, 0.3, 0.4, 0.5, 0.3, 0.5, 0.2, 0.5, 0.6],\n",
       " 'poly': [0.1, 0.5, 0.3, 0.4, 0.6, 0.5, 0.5, 0.5, 0.4, 0.6],\n",
       " 'rbf': [0.7, 0.3, 0.3, 0.8, 0.4, 0.6, 0.6, 0.5, 0.4, 0.3]}"
      ]
     },
     "execution_count": 68,
     "metadata": {},
     "output_type": "execute_result"
    }
   ],
   "source": [
    "import numpy as np\n",
    "import matplotlib.pyplot as plt\n",
    "from sklearn import datasets, svm\n",
    "iris = datasets.load_iris()\n",
    "X = iris.data\n",
    "y = iris.target\n",
    "X = X[y != 0, :2]\n",
    "y = y[y != 0]\n",
    "\n",
    "history = {\n",
    "    'linear': [],\n",
    "    'poly': [],\n",
    "    'rbf': []\n",
    "}\n",
    "\n",
    "for i in range(10):\n",
    "    X_train, X_test = model_selection.train_test_split(X, test_size=0.1)\n",
    "    y_train, y_test = model_selection.train_test_split(y, test_size=0.1)\n",
    "    for kernel in ('linear', 'poly', 'rbf'):\n",
    "        clf = svm.SVC(kernel=kernel, gamma=10)\n",
    "        history[kernel].append(clf.fit(X_train, y_train).score(X_test, y_test))\n",
    "\n",
    "history"
   ]
  },
  {
   "cell_type": "code",
   "execution_count": 77,
   "id": "33c73c3e-1a84-40dc-801b-27bf1e3416fc",
   "metadata": {},
   "outputs": [
    {
     "data": {
      "image/png": "[encoded data removed]",
      "text/plain": [
       "<Figure size 432x288 with 1 Axes>"
      ]
     },
     "metadata": {
      "needs_background": "light"
     },
     "output_type": "display_data"
    }
   ],
   "source": [
    "plt.figure()\n",
    "for kernel in history:\n",
    "    plt.plot(history[kernel], label=kernel)\n",
    "    plt.legend()\n",
    "plt.show()"
   ]
  },
  {
   "cell_type": "code",
   "execution_count": null,
   "id": "9673d30b-1722-4054-9da4-57db3ec588b1",
   "metadata": {},
   "outputs": [],
   "source": []
  }
 ],
 "metadata": {
  "kernelspec": {
   "display_name": "Python 3",
   "language": "python",
   "name": "python3"
  },
  "language_info": {
   "codemirror_mode": {
    "name": "ipython",
    "version": 3
   },
   "file_extension": ".py",
   "mimetype": "text/x-python",
   "name": "python",
   "nbconvert_exporter": "python",
   "pygments_lexer": "ipython3",
   "version": "3.9.5"
  }
 },
 "nbformat": 4,
 "nbformat_minor": 5
}
