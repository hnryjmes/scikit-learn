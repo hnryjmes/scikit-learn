{
 "cells": [
  {
   "cell_type": "markdown",
   "id": "fdfc5c85-8ea5-4fe3-ae6e-8f03e3b18dfc",
   "metadata": {},
   "source": [
    "# Unsupervised learning: seeking representations of the data\n",
    "\n",
    "https://scikit-learn.org/stable/tutorial/statistical_inference/unsupervised_learning.html"
   ]
  },
  {
   "cell_type": "code",
   "execution_count": 1,
   "id": "92c8fd94-efce-4ef8-a62e-39f8c76d2f10",
   "metadata": {},
   "outputs": [
    {
     "data": {
      "text/plain": [
       "KMeans(n_clusters=3)"
      ]
     },
     "execution_count": 1,
     "metadata": {},
     "output_type": "execute_result"
    }
   ],
   "source": [
    "from sklearn import cluster, datasets\n",
    "X_iris, y_iris = datasets.load_iris(return_X_y=True)\n",
    "k_means = cluster.KMeans(n_clusters=3)\n",
    "k_means.fit(X_iris)\n"
   ]
  },
  {
   "cell_type": "code",
   "execution_count": 2,
   "id": "fdb2e57f-5a3c-424b-bef7-c7c2c7159794",
   "metadata": {},
   "outputs": [
    {
     "data": {
      "text/plain": [
       "array([1, 1, 1, 1, 1, 2, 2, 2, 2, 2, 0, 0, 0, 0, 0], dtype=int32)"
      ]
     },
     "execution_count": 2,
     "metadata": {},
     "output_type": "execute_result"
    }
   ],
   "source": [
    "k_means.labels_[::10]"
   ]
  },
  {
   "cell_type": "code",
   "execution_count": 3,
   "id": "da91d9d3-7013-4817-acb6-a77d4796c3a2",
   "metadata": {},
   "outputs": [
    {
     "data": {
      "text/plain": [
       "array([0, 0, 0, 0, 0, 1, 1, 1, 1, 1, 2, 2, 2, 2, 2])"
      ]
     },
     "execution_count": 3,
     "metadata": {},
     "output_type": "execute_result"
    }
   ],
   "source": [
    "y_iris[::10]"
   ]
  },
  {
   "cell_type": "code",
   "execution_count": 4,
   "id": "e591eb20-6049-480f-8494-537d9b7e7ee3",
   "metadata": {},
   "outputs": [],
   "source": [
    "import scipy as sp\n",
    "try:\n",
    "    face = sp.face(gray=True)\n",
    "except AttributeError:\n",
    "    from scipy import misc\n",
    "    face = misc.face(gray=True)\n"
   ]
  },
  {
   "cell_type": "code",
   "execution_count": 5,
   "id": "6b8832d9-b31e-4ffd-a910-67fca1a106f0",
   "metadata": {},
   "outputs": [
    {
     "data": {
      "text/plain": [
       "KMeans(n_clusters=5, n_init=1)"
      ]
     },
     "execution_count": 5,
     "metadata": {},
     "output_type": "execute_result"
    }
   ],
   "source": [
    "X = face.reshape((-1, 1))\n",
    "k_means = cluster.KMeans(n_clusters=5, n_init=1)\n",
    "k_means.fit(X)\n"
   ]
  },
  {
   "cell_type": "code",
   "execution_count": 7,
   "id": "e0f8de2e-e5ad-4332-bcd8-46cdbf9d048c",
   "metadata": {},
   "outputs": [],
   "source": [
    "import numpy as np\n",
    "values = k_means.cluster_centers_.squeeze()\n",
    "labels = k_means.labels_\n",
    "face_compressed = np.choose(labels, values)\n",
    "face_compressed.shape = face.shape"
   ]
  },
  {
   "cell_type": "code",
   "execution_count": 8,
   "id": "6af59183-5829-43b4-a016-657b3132bb6b",
   "metadata": {},
   "outputs": [],
   "source": [
    "from skimage.data import coins\n",
    "from scipy.ndimage.filters import gaussian_filter\n",
    "from skimage.transform import rescale\n",
    "rescaled_coins = rescale(\n",
    "    gaussian_filter(coins(), sigma=2),\n",
    "    0.2, mode='reflect', anti_aliasing=False, multichannel=False\n",
    ")\n",
    "X = np.reshape(rescaled_coins, (-1, 1))"
   ]
  },
  {
   "cell_type": "code",
   "execution_count": 9,
   "id": "f6230177-2f91-4428-9730-c0d3e417acd9",
   "metadata": {},
   "outputs": [],
   "source": [
    "from sklearn.feature_extraction import grid_to_graph\n",
    "connectivity = grid_to_graph(*rescaled_coins.shape)"
   ]
  },
  {
   "cell_type": "code",
   "execution_count": 10,
   "id": "f4bb0934-38a3-40ce-beef-5cb00f7d9312",
   "metadata": {},
   "outputs": [
    {
     "data": {
      "text/plain": [
       "AgglomerativeClustering(connectivity=<4697x4697 sparse matrix of type '<class 'numpy.int64'>'\n",
       "\twith 23209 stored elements in COOrdinate format>,\n",
       "                        n_clusters=27)"
      ]
     },
     "execution_count": 10,
     "metadata": {},
     "output_type": "execute_result"
    }
   ],
   "source": [
    "n_clusters = 27\n",
    "from sklearn.cluster import AgglomerativeClustering\n",
    "ward = AgglomerativeClustering(n_clusters=n_clusters, linkage='ward',\n",
    "                              connectivity=connectivity)\n",
    "ward.fit(X)"
   ]
  },
  {
   "cell_type": "code",
   "execution_count": 11,
   "id": "3f8e09fc-eab3-4afd-ac8b-3ed9636382f2",
   "metadata": {},
   "outputs": [],
   "source": [
    "label = np.reshape(ward.labels_, rescaled_coins.shape)"
   ]
  },
  {
   "cell_type": "code",
   "execution_count": 12,
   "id": "34b7d6bb-a106-4cc3-8a27-8677dfca452f",
   "metadata": {},
   "outputs": [
    {
     "data": {
      "text/plain": [
       "FeatureAgglomeration(connectivity=<64x64 sparse matrix of type '<class 'numpy.int64'>'\n",
       "\twith 288 stored elements in COOrdinate format>,\n",
       "                     n_clusters=32)"
      ]
     },
     "execution_count": 12,
     "metadata": {},
     "output_type": "execute_result"
    }
   ],
   "source": [
    "digits = datasets.load_digits()\n",
    "images = digits.images\n",
    "X = np.reshape(images, (len(images), -1))\n",
    "connectivity = grid_to_graph(*images[0].shape)\n",
    "agglo = cluster.FeatureAgglomeration(connectivity=connectivity, n_clusters=32)\n",
    "agglo.fit(X)\n"
   ]
  },
  {
   "cell_type": "code",
   "execution_count": 13,
   "id": "a803dc23-598e-46d7-b219-a9c3198a32a9",
   "metadata": {},
   "outputs": [],
   "source": [
    "X_reduced = agglo.transform(X)\n",
    "X_approx = agglo.inverse_transform(X_reduced)\n",
    "images_approx = np.reshape(X_approx, images.shape)"
   ]
  },
  {
   "cell_type": "code",
   "execution_count": 14,
   "id": "f5ec5d29-e97b-4ca9-b6b9-159ae48e727b",
   "metadata": {},
   "outputs": [
    {
     "data": {
      "text/plain": [
       "PCA()"
      ]
     },
     "execution_count": 14,
     "metadata": {},
     "output_type": "execute_result"
    }
   ],
   "source": [
    "x1 = np.random.normal(size=100)\n",
    "x2 = np.random.normal(size=100)\n",
    "x3 = x1 + x2\n",
    "X = np.c_[x1, x2, x3]\n",
    "\n",
    "from sklearn import decomposition\n",
    "pca = decomposition.PCA()\n",
    "pca.fit(X)"
   ]
  },
  {
   "cell_type": "code",
   "execution_count": 15,
   "id": "4b833d0d-21c6-4017-99d5-4622c1f9ee5c",
   "metadata": {},
   "outputs": [
    {
     "data": {
      "text/plain": [
       "array([3.15336769e+00, 1.02203616e+00, 1.20918040e-32])"
      ]
     },
     "execution_count": 15,
     "metadata": {},
     "output_type": "execute_result"
    }
   ],
   "source": [
    "pca.explained_variance_"
   ]
  },
  {
   "cell_type": "code",
   "execution_count": 16,
   "id": "639eb10e-07c6-4240-ad88-e742a4329f50",
   "metadata": {},
   "outputs": [],
   "source": [
    "pca.n_components = 2"
   ]
  },
  {
   "cell_type": "code",
   "execution_count": 17,
   "id": "80e3fac7-bdce-4291-b1e7-6e349ae604bc",
   "metadata": {},
   "outputs": [
    {
     "data": {
      "text/plain": [
       "(100, 2)"
      ]
     },
     "execution_count": 17,
     "metadata": {},
     "output_type": "execute_result"
    }
   ],
   "source": [
    "X_reduced = pca.fit_transform(X)\n",
    "X_reduced.shape"
   ]
  },
  {
   "cell_type": "code",
   "execution_count": 19,
   "id": "3d3e78c6-eaa1-4184-8c2b-9dace7c5f1a4",
   "metadata": {},
   "outputs": [
    {
     "data": {
      "text/plain": [
       "True"
      ]
     },
     "execution_count": 19,
     "metadata": {},
     "output_type": "execute_result"
    }
   ],
   "source": [
    "import numpy as np\n",
    "from scipy import signal\n",
    "time = np.linspace(0, 10, 2000)\n",
    "s1 = np.sin(2 * time)\n",
    "s2 = np.sign(np.sin(3 * time))\n",
    "s3 = signal.sawtooth(2 + np.pi * time)\n",
    "S = np.c_[s1, s2, s3]\n",
    "S += 0.2 * np.random.normal(size=S.shape)\n",
    "S /= S.std(axis=0)\n",
    "A = np.array([[1,1,1],[0.5,2,1],[1.5,1,2]])\n",
    "X = np.dot(S, A.T)\n",
    "ica = decomposition.FastICA()\n",
    "S_ = ica.fit_transform(X)\n",
    "A_ = ica.mixing_.T\n",
    "np.allclose(X, np.dot(S_, A_) + ica.mean_)"
   ]
  },
  {
   "cell_type": "code",
   "execution_count": null,
   "id": "d29e0590-ac08-4332-870b-df57181cb398",
   "metadata": {},
   "outputs": [],
   "source": []
  }
 ],
 "metadata": {
  "kernelspec": {
   "display_name": "Python 3",
   "language": "python",
   "name": "python3"
  },
  "language_info": {
   "codemirror_mode": {
    "name": "ipython",
    "version": 3
   },
   "file_extension": ".py",
   "mimetype": "text/x-python",
   "name": "python",
   "nbconvert_exporter": "python",
   "pygments_lexer": "ipython3",
   "version": "3.9.4"
  }
 },
 "nbformat": 4,
 "nbformat_minor": 5
}
