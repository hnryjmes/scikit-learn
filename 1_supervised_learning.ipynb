{
 "cells": [
  {
   "cell_type": "markdown",
   "id": "78490798-58ec-494d-8dd3-b465ad4c1b92",
   "metadata": {},
   "source": [
    "# 1. Supervised learning\n",
    "\n",
    "## 1.1 Linear Models\n",
    "\n",
    "$$\n",
    "\\hat{y}(w,x) = w_0 + w_1 x_1 + \\cdots + w_p x_p\n",
    "$$\n",
    "\n",
    "### 1.1.1. Ordinary Least Squares\n",
    "\n",
    "$$\n",
    "\\min_{w} \\|Xw - y\\|_2^2\n",
    "$$"
   ]
  },
  {
   "cell_type": "code",
   "execution_count": 1,
   "id": "86f8a56f-deef-4afa-92f4-147c8e1ef854",
   "metadata": {},
   "outputs": [
    {
     "data": {
      "text/plain": [
       "LinearRegression()"
      ]
     },
     "execution_count": 1,
     "metadata": {},
     "output_type": "execute_result"
    }
   ],
   "source": [
    "from sklearn import linear_model\n",
    "reg = linear_model.LinearRegression()\n",
    "reg.fit([[0,0],[1,1],[2,2]],[0,1,2])"
   ]
  },
  {
   "cell_type": "code",
   "execution_count": 2,
   "id": "0fe2c713-fafa-4b90-b00c-f23aa430ed81",
   "metadata": {},
   "outputs": [
    {
     "data": {
      "text/plain": [
       "array([0.5, 0.5])"
      ]
     },
     "execution_count": 2,
     "metadata": {},
     "output_type": "execute_result"
    }
   ],
   "source": [
    "reg.coef_"
   ]
  },
  {
   "cell_type": "markdown",
   "id": "e61748ac-be72-4e92-8566-8f34e3f0ba4b",
   "metadata": {},
   "source": [
    "### 1.1.2. Ridge regression and classification\n",
    "\n",
    "$$\n",
    "    \\min_{w} \\| Xw - y \\|_2^2 + \\alpha \\| w \\|_2^2\n",
    "$$"
   ]
  },
  {
   "cell_type": "code",
   "execution_count": 3,
   "id": "e143a0a7-b1e0-4719-a200-26b17f5df8a0",
   "metadata": {},
   "outputs": [
    {
     "data": {
      "text/plain": [
       "Ridge(alpha=0.5)"
      ]
     },
     "execution_count": 3,
     "metadata": {},
     "output_type": "execute_result"
    }
   ],
   "source": [
    "from sklearn import linear_model\n",
    "reg = linear_model.Ridge(alpha=0.5)\n",
    "reg.fit([[0,0],[0,0],[1,1]],[0,0.1,1])\n"
   ]
  },
  {
   "cell_type": "code",
   "execution_count": 4,
   "id": "ba4ffeb3-4ec9-4d49-a355-98ce5917ae7f",
   "metadata": {},
   "outputs": [
    {
     "data": {
      "text/plain": [
       "array([0.34545455, 0.34545455])"
      ]
     },
     "execution_count": 4,
     "metadata": {},
     "output_type": "execute_result"
    }
   ],
   "source": [
    "reg.coef_"
   ]
  },
  {
   "cell_type": "code",
   "execution_count": 5,
   "id": "251ae716-ea91-4735-aa44-5f5da8a060c6",
   "metadata": {},
   "outputs": [
    {
     "data": {
      "text/plain": [
       "0.1363636363636364"
      ]
     },
     "execution_count": 5,
     "metadata": {},
     "output_type": "execute_result"
    }
   ],
   "source": [
    "reg.intercept_"
   ]
  },
  {
   "cell_type": "code",
   "execution_count": 6,
   "id": "3e8020a3-65c1-4eb6-a664-90cb7379bde7",
   "metadata": {},
   "outputs": [
    {
     "data": {
      "text/plain": [
       "RidgeCV(alphas=array([1.e-06, 1.e-05, 1.e-04, 1.e-03, 1.e-02, 1.e-01, 1.e+00, 1.e+01,\n",
       "       1.e+02, 1.e+03, 1.e+04, 1.e+05, 1.e+06]))"
      ]
     },
     "execution_count": 6,
     "metadata": {},
     "output_type": "execute_result"
    }
   ],
   "source": [
    "import numpy as np\n",
    "from sklearn import linear_model\n",
    "reg = linear_model.RidgeCV(alphas=np.logspace(-6,6,13))\n",
    "reg.fit([[0,0],[0,0],[1,1]],[0,0.1,1])\n"
   ]
  },
  {
   "cell_type": "code",
   "execution_count": 7,
   "id": "2b4c5f43-486f-402a-b8b6-edf9d49da77e",
   "metadata": {},
   "outputs": [
    {
     "data": {
      "text/plain": [
       "0.01"
      ]
     },
     "execution_count": 7,
     "metadata": {},
     "output_type": "execute_result"
    }
   ],
   "source": [
    "reg.alpha_"
   ]
  },
  {
   "cell_type": "markdown",
   "id": "0d0dde0e-128e-4ba7-bb93-20a263523606",
   "metadata": {},
   "source": [
    "### 1.1.3. Lasso\n",
    "\n",
    "$$\n",
    "    \\min_w \\frac{1}{2 n_{\\text{samples}}} \\| Xw - y \\|_2^2 + \\alpha \\| w \\|_1\n",
    "$$"
   ]
  },
  {
   "cell_type": "code",
   "execution_count": 8,
   "id": "0443bffd-608f-4464-9811-733a7f6915a8",
   "metadata": {},
   "outputs": [
    {
     "data": {
      "text/plain": [
       "Lasso(alpha=0.1)"
      ]
     },
     "execution_count": 8,
     "metadata": {},
     "output_type": "execute_result"
    }
   ],
   "source": [
    "from sklearn import linear_model\n",
    "reg = linear_model.Lasso(alpha=0.1)\n",
    "reg.fit([[0,0],[1,1]],[0,1])\n"
   ]
  },
  {
   "cell_type": "code",
   "execution_count": 9,
   "id": "c31bb769-97be-4af9-a9fb-09e50a947b89",
   "metadata": {},
   "outputs": [
    {
     "data": {
      "text/plain": [
       "array([0.8])"
      ]
     },
     "execution_count": 9,
     "metadata": {},
     "output_type": "execute_result"
    }
   ],
   "source": [
    "reg.predict([[1,1]])"
   ]
  },
  {
   "cell_type": "markdown",
   "id": "4f815bee-c68c-436b-b800-78901b03ae9c",
   "metadata": {},
   "source": [
    "### 1.1.4. Multi-task Lasso\n",
    "\n",
    "$$\n",
    "    \\min_{W} \\frac{1}{2n_{\\text{samples}}} \\| XW-Y \\|_{\\operatorname{Frob}}^{2} + \\alpha \\| W \\|_{21} \\\\\n",
    "    \\| A \\|_{\\operatorname{Frob}} = \\sqrt{\\sum_{ij} a_{ij}^2} \\\\\n",
    "    \\| A \\|_{21} = \\sum_{i} \\sqrt{\\sum_{j} a_{ij}^2 }\n",
    "$$"
   ]
  },
  {
   "cell_type": "markdown",
   "id": "fd72f0f3-e206-4d91-875b-6de97974ef36",
   "metadata": {},
   "source": [
    "### 1.1.5. ElasticNet\n",
    "\n",
    "$$\n",
    "    \\min_{w} \\frac{1}{2n_{\\text{samples}}} \\| Xw-y \\|_{2}^{2} + \\alpha \\rho \\| w \\|_{1} + \\frac{\\alpha(1 - \\rho)}{2} \\| w \\|_2^2\n",
    "$$"
   ]
  },
  {
   "cell_type": "markdown",
   "id": "b48931fc-18de-489e-8eee-787a4de660b8",
   "metadata": {},
   "source": [
    "### 1.1.6. Multitask ElasticNet\n",
    "\n",
    "$$\n",
    "        \\min_{W} \\frac{1}{2n_{\\text{samples}}} \\| XW-Y \\|_{\\operatorname{Frob}}^{2} + \\alpha \\rho \\| W \\|_{21} + \\frac{\\alpha(1 - \\rho)}{2} \\| W \\|_{\\operatorname{Frob}}^{2}\n",
    "$$"
   ]
  },
  {
   "cell_type": "markdown",
   "id": "a85ac0b8-990f-4d1f-854e-20a0f7739b49",
   "metadata": {},
   "source": [
    "### 1.1.7. Least Angle Regression\n",
    "\n",
    "### 1.1.8. LARS Lasso"
   ]
  },
  {
   "cell_type": "code",
   "execution_count": 10,
   "id": "6e388898-276e-4347-ab7d-cb3c65b028b2",
   "metadata": {},
   "outputs": [
    {
     "data": {
      "text/plain": [
       "LassoLars(alpha=0.1)"
      ]
     },
     "execution_count": 10,
     "metadata": {},
     "output_type": "execute_result"
    }
   ],
   "source": [
    "from sklearn import linear_model\n",
    "reg = linear_model.LassoLars(alpha=0.1)\n",
    "reg.fit([[0,0], [1,1]], [0,1])\n"
   ]
  },
  {
   "cell_type": "code",
   "execution_count": 11,
   "id": "b45deabe-d3a5-41ea-9742-b812dc9ade8c",
   "metadata": {},
   "outputs": [
    {
     "data": {
      "text/plain": [
       "array([0.71715729, 0.        ])"
      ]
     },
     "execution_count": 11,
     "metadata": {},
     "output_type": "execute_result"
    }
   ],
   "source": [
    "reg.coef_"
   ]
  },
  {
   "cell_type": "markdown",
   "id": "75d73471-2b9b-4d7f-a345-d46e76beafe4",
   "metadata": {},
   "source": [
    "### 1.1.9. Orthogonal Matching Pursuit (OMP)\n",
    "\n",
    "$$\n",
    "    \\underset{w}{\\operatorname{arg min}} \\| y - Xw \\|_2^2 \\quad \\text{subject to} \\quad \\|w \\|_0 \\leq n_{\\text{nonzero\\_coefs}} \\\\\n",
    "    \\underset{w}{\\operatorname{arg min}} \\| w \\|_0 \\quad \\text{subject to} \\quad \\|y - Xw \\|_2^2 \\leq \\text{tol} \\\\\n",
    "$$"
   ]
  },
  {
   "cell_type": "markdown",
   "id": "0714694a-0924-45b6-959e-a65848d705fa",
   "metadata": {},
   "source": [
    "### 1.1.10. Bayesian Regression\n",
    "\n",
    "$$\n",
    "    p(y | X,w,\\alpha) = \\mathcal{N}(y | Xw, \\alpha) \\\\\n",
    "    p(w|\\lambda) = \\mathcal{N}(w | 0, \\lambda^{-1} \\mathbf{I}_p)\n",
    "$$"
   ]
  },
  {
   "cell_type": "code",
   "execution_count": 12,
   "id": "3340e509-b481-4b74-a0a7-d8074af7a9ab",
   "metadata": {},
   "outputs": [
    {
     "data": {
      "text/plain": [
       "BayesianRidge()"
      ]
     },
     "execution_count": 12,
     "metadata": {},
     "output_type": "execute_result"
    }
   ],
   "source": [
    "from sklearn import linear_model\n",
    "X = [[0., 0.], [1.,1.], [2.,2.], [3.,3.]]\n",
    "Y = [0.,1.,2.,3.]\n",
    "reg = linear_model.BayesianRidge()\n",
    "reg.fit(X, Y)"
   ]
  },
  {
   "cell_type": "code",
   "execution_count": 13,
   "id": "acbfe128-5f09-44a9-a68e-f4055fc6bafe",
   "metadata": {},
   "outputs": [
    {
     "data": {
      "text/plain": [
       "array([0.50000013])"
      ]
     },
     "execution_count": 13,
     "metadata": {},
     "output_type": "execute_result"
    }
   ],
   "source": [
    "reg.predict([[1, 0.]])"
   ]
  },
  {
   "cell_type": "code",
   "execution_count": 14,
   "id": "2a016f49-ffa9-49d1-b89d-df7503ba130c",
   "metadata": {},
   "outputs": [
    {
     "data": {
      "text/plain": [
       "array([0.49999993, 0.49999993])"
      ]
     },
     "execution_count": 14,
     "metadata": {},
     "output_type": "execute_result"
    }
   ],
   "source": [
    "reg.coef_"
   ]
  },
  {
   "cell_type": "markdown",
   "id": "91ebe35f-9bf0-4c6a-8241-6cd10108ad8b",
   "metadata": {},
   "source": [
    "$$\n",
    "    p(w | \\lambda) = \\mathcal{N}(w|0,A^{-1})\n",
    "$$"
   ]
  },
  {
   "cell_type": "markdown",
   "id": "dded9a47-7805-4cd4-89af-57c6a6d46e1b",
   "metadata": {},
   "source": [
    "### 1.1.11. Logistic regression\n",
    "\n",
    "$$\n",
    "    \\min_{w,c} \\frac{1}{2} w^{\\top}w + C \\sum_{i=1}^{n} \\log(\\exp(-y_i (X_i^{\\top}w + c)) + 1) \\\\\n",
    "    \\min_{w,c} \\|w \\|_1 + C \\sum_{i=1}^{n} \\log(\\exp(-y_i (X_i^{\\top}w + c)) + 1) \\\\\n",
    "    \\min_{w,c} \\frac{1 - \\rho}{2} w^{\\top}w + \\rho\\|w \\|_1 + C \\sum_{i=1}^{n} \\log(\\exp(-y_i (X_i^{\\top}w + c)) + 1)\n",
    "$$"
   ]
  },
  {
   "cell_type": "markdown",
   "id": "34107c7a-1876-4ba8-8676-e429b1107e69",
   "metadata": {},
   "source": [
    "### 1.1.12. Generalized Linear Regression\n",
    "\n",
    "$$\n",
    "    \\hat{y}(w,X)=h(Xw) \\\\\n",
    "    \\min_w \\frac{1}{2n_{\\text{samples}}} \\sum_{i} d(y_i, \\hat{y}_i) + \\frac{\\alpha}{2} \\|w \\|_2\n",
    "$$"
   ]
  },
  {
   "cell_type": "code",
   "execution_count": 15,
   "id": "409e72b7-e71e-4c9a-9add-58da52c07812",
   "metadata": {},
   "outputs": [
    {
     "data": {
      "text/plain": [
       "TweedieRegressor(alpha=0.5, link='log', power=1)"
      ]
     },
     "execution_count": 15,
     "metadata": {},
     "output_type": "execute_result"
    }
   ],
   "source": [
    "from sklearn.linear_model import TweedieRegressor\n",
    "reg = TweedieRegressor(power=1, alpha=0.5, link='log')\n",
    "reg.fit([[0,0],[0,1],[2,2]], [0,1,2])\n"
   ]
  },
  {
   "cell_type": "code",
   "execution_count": 16,
   "id": "80f6d7e6-4533-44aa-9080-a122efd0ee1e",
   "metadata": {},
   "outputs": [
    {
     "data": {
      "text/plain": [
       "array([0.24631611, 0.43370317])"
      ]
     },
     "execution_count": 16,
     "metadata": {},
     "output_type": "execute_result"
    }
   ],
   "source": [
    "reg.coef_"
   ]
  },
  {
   "cell_type": "code",
   "execution_count": 17,
   "id": "e69b33e5-be0f-44a6-a027-a715834c55a6",
   "metadata": {},
   "outputs": [
    {
     "data": {
      "text/plain": [
       "-0.7638091359123443"
      ]
     },
     "execution_count": 17,
     "metadata": {},
     "output_type": "execute_result"
    }
   ],
   "source": [
    "reg.intercept_"
   ]
  },
  {
   "cell_type": "markdown",
   "id": "779ed13b-a58a-4efe-946f-5f29f8565d23",
   "metadata": {},
   "source": [
    "### 1.1.13. Stochastic Gradient Descent - SGD\n",
    "\n",
    "### 1.1.14. Perceptron\n",
    "\n",
    "### 1.1.15. Passive Aggressive Algorithms\n",
    "\n",
    "### 1.1.16. Robustness regression: outliers and modelling errors\n",
    "\n",
    "$$\n",
    "    \\min_{w,\\sigma} \\sum_{i=1}^n \\left( \\sigma + H_{\\epsilon} \\left( \\frac{X_i w - y_i}{\\sigma} \\right) \\sigma \\right) + \\alpha \\| w \\|_2^2 \\\\\n",
    "    H_{\\epsilon}(z) = \\begin{cases} z^2 & \\text{if $|z| < \\epsilon$,} \\\\ 2\\epsilon |z| - \\epsilon^2 & \\text{otherwise} \\end{cases}\n",
    "$$"
   ]
  },
  {
   "cell_type": "markdown",
   "id": "8897dafc-b12d-462b-aeea-d450cbb2bad7",
   "metadata": {},
   "source": [
    "### 1.1.17 Polynomial regression: extending linear models with basis functions\n",
    "\n",
    "$$\n",
    "    \\hat{y}(w, x) = w_0 + w_1 x_1 + w_2 x_2 \\\\\n",
    "    \\hat{y}(w, x) = w_0 + w_1 x_1 + w_2 x_2 + w_3 x_1 x_2 + w_4 x_1^2 + w_5 x_2^2 \\\\\n",
    "    z = [x_1, x_2, x_1 x_2, x_1^2, x_2^2] \\\\\n",
    "    \\hat{y}(w, x) = w_0 + w_1 z_1 + w_2 z_2 + w_3 z_3 + w_4 z_4 + w_5 z_5 \\\\\n",
    "$$"
   ]
  },
  {
   "cell_type": "code",
   "execution_count": 18,
   "id": "90728f33-ce57-452a-80f9-630a37a5da2d",
   "metadata": {},
   "outputs": [
    {
     "data": {
      "text/plain": [
       "array([[0, 1],\n",
       "       [2, 3],\n",
       "       [4, 5]])"
      ]
     },
     "execution_count": 18,
     "metadata": {},
     "output_type": "execute_result"
    }
   ],
   "source": [
    "from sklearn.preprocessing import PolynomialFeatures\n",
    "import numpy as np\n",
    "X = np.arange(6).reshape(3,2)\n",
    "X"
   ]
  },
  {
   "cell_type": "code",
   "execution_count": 19,
   "id": "808867ac-cd03-4f41-af8c-a279d05fd711",
   "metadata": {},
   "outputs": [
    {
     "data": {
      "text/plain": [
       "array([[ 1.,  0.,  1.,  0.,  0.,  1.],\n",
       "       [ 1.,  2.,  3.,  4.,  6.,  9.],\n",
       "       [ 1.,  4.,  5., 16., 20., 25.]])"
      ]
     },
     "execution_count": 19,
     "metadata": {},
     "output_type": "execute_result"
    }
   ],
   "source": [
    "poly = PolynomialFeatures(degree=2)\n",
    "poly.fit_transform(X)"
   ]
  },
  {
   "cell_type": "code",
   "execution_count": 20,
   "id": "768b9475-107a-42e4-bed7-527b34417de5",
   "metadata": {},
   "outputs": [
    {
     "data": {
      "text/plain": [
       "array([ 3., -2.,  1., -1.])"
      ]
     },
     "execution_count": 20,
     "metadata": {},
     "output_type": "execute_result"
    }
   ],
   "source": [
    "from sklearn.preprocessing import PolynomialFeatures\n",
    "from sklearn.linear_model import LinearRegression\n",
    "from sklearn.pipeline import Pipeline\n",
    "import numpy as np\n",
    "model = Pipeline([('poly', PolynomialFeatures(degree=3)),\n",
    "                 ('linear', LinearRegression(fit_intercept=False))])\n",
    "x = np.arange(5)\n",
    "y = 3 - (2 * x) + (x ** 2) - (x ** 3)\n",
    "model = model.fit(x[:, np.newaxis], y)\n",
    "model.named_steps['linear'].coef_"
   ]
  },
  {
   "cell_type": "code",
   "execution_count": 21,
   "id": "a1a7e7fa-88e9-4de1-9157-b21960a8e03f",
   "metadata": {},
   "outputs": [
    {
     "data": {
      "text/plain": [
       "array([0, 1, 1, 0])"
      ]
     },
     "execution_count": 21,
     "metadata": {},
     "output_type": "execute_result"
    }
   ],
   "source": [
    "from sklearn.linear_model import Perceptron\n",
    "from sklearn.preprocessing import PolynomialFeatures\n",
    "import numpy as np\n",
    "X = np.array([[0, 0], [0, 1], [1, 0], [1, 1]])\n",
    "y = X[:, 0] ^ X[:, 1]\n",
    "y"
   ]
  },
  {
   "cell_type": "code",
   "execution_count": 22,
   "id": "34a3e409-3432-48e2-a852-aa08c08606c1",
   "metadata": {},
   "outputs": [
    {
     "data": {
      "text/plain": [
       "array([[1, 0, 0, 0],\n",
       "       [1, 0, 1, 0],\n",
       "       [1, 1, 0, 0],\n",
       "       [1, 1, 1, 1]])"
      ]
     },
     "execution_count": 22,
     "metadata": {},
     "output_type": "execute_result"
    }
   ],
   "source": [
    "X = PolynomialFeatures(interaction_only=True).fit_transform(X).astype(int)\n",
    "X"
   ]
  },
  {
   "cell_type": "code",
   "execution_count": 23,
   "id": "b3690732-ef88-4760-b768-9f1196583146",
   "metadata": {},
   "outputs": [],
   "source": [
    "clf = Perceptron(fit_intercept=False, max_iter=10, tol=None, shuffle=False).fit(X, y)"
   ]
  },
  {
   "cell_type": "code",
   "execution_count": 24,
   "id": "2cab8c24-8279-45c3-8368-72575efe2ab1",
   "metadata": {},
   "outputs": [
    {
     "data": {
      "text/plain": [
       "array([0, 1, 1, 0])"
      ]
     },
     "execution_count": 24,
     "metadata": {},
     "output_type": "execute_result"
    }
   ],
   "source": [
    "clf.predict(X)"
   ]
  },
  {
   "cell_type": "code",
   "execution_count": 25,
   "id": "53728a21-299b-4b63-8d49-8bd2d69ca834",
   "metadata": {},
   "outputs": [
    {
     "data": {
      "text/plain": [
       "1.0"
      ]
     },
     "execution_count": 25,
     "metadata": {},
     "output_type": "execute_result"
    }
   ],
   "source": [
    "clf.score(X, y)"
   ]
  },
  {
   "cell_type": "code",
   "execution_count": null,
   "id": "61b50632-2258-439c-a1e1-c34dd0bb2c10",
   "metadata": {},
   "outputs": [],
   "source": []
  }
 ],
 "metadata": {
  "kernelspec": {
   "display_name": "Python 3",
   "language": "python",
   "name": "python3"
  },
  "language_info": {
   "codemirror_mode": {
    "name": "ipython",
    "version": 3
   },
   "file_extension": ".py",
   "mimetype": "text/x-python",
   "name": "python",
   "nbconvert_exporter": "python",
   "pygments_lexer": "ipython3",
   "version": "3.9.4"
  }
 },
 "nbformat": 4,
 "nbformat_minor": 5
}
